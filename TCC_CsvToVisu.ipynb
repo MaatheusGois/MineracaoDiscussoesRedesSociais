{
 "cells": [
  {
   "cell_type": "code",
   "execution_count": 1,
   "metadata": {},
   "outputs": [],
   "source": [
    "import pandas as pd\n",
    "import os\n",
    "\n",
    "entrada = pd.read_csv(\"resultado_classificacao.csv\", sep=\";\")"
   ]
  },
  {
   "cell_type": "code",
   "execution_count": 2,
   "metadata": {},
   "outputs": [],
   "source": [
    "with open(\"Saida_Visu.txt\", \"w+\", encoding=\"utf-8\") as file:\n",
    "    file.write(\"id\\tsender\\tdate\\ttime\\tcontent\\ttopic\\tposition\\taddressee\\n\")\n",
    "    for index, row in entrada.iterrows():\n",
    "        output_text = None\n",
    "        if(str(row['addressee']) == 'nan'):\n",
    "            tag_addressee = \"\"\n",
    "        else:\n",
    "            tag_addressee = int(row['addressee'])\n",
    "        \n",
    "        output_text = f\"{int(row['id'])}\\t{row['sender']}\\t{row['date']}\\t{row['time']}\\t{row['content']}\\t{row['topic']}\\t{row['position']}\\t{tag_addressee}\\n\"\n",
    "        output_text = output_text.replace(\"\\r\", \"\")\n",
    "        file.write(output_text)"
   ]
  },
  {
   "cell_type": "code",
   "execution_count": 3,
   "metadata": {},
   "outputs": [],
   "source": [
    "with open(\"Saida_Visu.txt\", 'rb+') as filehandle:\n",
    "    filehandle.seek(-2, os.SEEK_END)\n",
    "    filehandle.truncate()"
   ]
  },
  {
   "cell_type": "code",
   "execution_count": 14,
   "metadata": {},
   "outputs": [],
   "source": [
    "import pandas as pd\n",
    "\n",
    "reddit_base = pd.read_csv(\"reddit_post_extraction.csv\")\n",
    "\n",
    "reddit_base[[\"sender\",\"date\",\"time\",\"content\"]].to_csv(\"teste.csv\")"
   ]
  }
 ],
 "metadata": {
  "kernelspec": {
   "display_name": "Python 3",
   "language": "python",
   "name": "python3"
  },
  "language_info": {
   "codemirror_mode": {
    "name": "ipython",
    "version": 3
   },
   "file_extension": ".py",
   "mimetype": "text/x-python",
   "name": "python",
   "nbconvert_exporter": "python",
   "pygments_lexer": "ipython3",
   "version": "3.8.3"
  }
 },
 "nbformat": 4,
 "nbformat_minor": 4
}
