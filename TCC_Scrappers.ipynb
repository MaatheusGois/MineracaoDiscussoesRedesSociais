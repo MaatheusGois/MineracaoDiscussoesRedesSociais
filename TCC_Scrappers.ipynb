{
 "cells": [
  {
   "cell_type": "markdown",
   "metadata": {},
   "source": [
    "# Reddit"
   ]
  },
  {
   "cell_type": "markdown",
   "metadata": {},
   "source": [
    "Para utilização do scrapper é preciso cadastrar um cliente na API do reddit, para obter as credênciais de acesso.\n",
    "\n",
    "É possível obter esses tokens ao cadastrar a aplicação nessa página: https://www.reddit.com/prefs/apps/"
   ]
  },
  {
   "cell_type": "code",
   "execution_count": 1,
   "metadata": {},
   "outputs": [],
   "source": [
    "import praw\n",
    "import pandas as pd\n",
    "from datetime import datetime\n",
    "\n",
    "# Tokens de Acesso a API do Reddit\n",
    "# Criada para Uso do Exclusivo\n",
    "reddit = praw.Reddit(client_id='Zahz6NxvpyRV4A', client_secret='SvvYqBQecVzEJwTwvq3kGy6l-zg', user_agent='TCC - Reddit Scrapper')\n",
    "\n",
    "# Link de um post do reddit\n",
    "# Também pode ser substituido por tópicos da página principal, ou de algum subreddit.\n",
    "submission = reddit.submission(url=\"https://www.reddit.com/r/news/comments/i0lu1y/donald_trump_calls_for_delay_to_2020_us/\")\n"
   ]
  },
  {
   "cell_type": "code",
   "execution_count": 2,
   "metadata": {
    "scrolled": true
   },
   "outputs": [],
   "source": [
    "from praw.models import MoreComments\n",
    "\n",
    "def get_first_level_comments(list_of_comments, index,dataframe):\n",
    "    for comentario in list_of_comments:\n",
    "        if(type(comentario) == praw.models.reddit.more.MoreComments):\n",
    "            index = get_first_level_comments(comentario.comments(), index, dataframe)\n",
    "            continue\n",
    "        \n",
    "        print_root_info(comentario, index, dataframe)\n",
    "        \n",
    "        if(comentario.replies):\n",
    "            child_id = index + 1\n",
    "            \n",
    "            last_id = get_replies_from_node(comentario.replies, index, child_id, dataframe)\n",
    "            \n",
    "            index = last_id + 1\n",
    "        else:\n",
    "            index += 1\n",
    "    \n",
    "    # Retorna o indice do último comentário +1\n",
    "    return index\n"
   ]
  },
  {
   "cell_type": "code",
   "execution_count": 3,
   "metadata": {},
   "outputs": [],
   "source": [
    "def get_replies_from_node(replies, in_reply_to_id, node_id, dataframe):\n",
    "    index = node_id\n",
    "    for resposta in replies:\n",
    "        if(type(resposta) == praw.models.reddit.more.MoreComments):\n",
    "            return get_replies_from_node(resposta.comments(), in_reply_to_id, index, dataframe)\n",
    "        \n",
    "        print_node_info(resposta, index, in_reply_to_id, dataframe)\n",
    "        \n",
    "        if(resposta.replies):\n",
    "            child_id = index + 1\n",
    "            last_id = get_replies_from_node(resposta.replies, index, child_id, dataframe)\n",
    "              \n",
    "            index = last_id + 1\n",
    "            \n",
    "        else:\n",
    "            index += 1\n",
    "    \n",
    "    return index - 1\n",
    "            \n",
    "\n",
    "def print_root_info(comentario, index, dataframe):\n",
    "    date = datetime.fromtimestamp(comentario.created_utc)\n",
    "    body = str(comentario.body).replace(\"\\n\", \" \")\n",
    "    body = body.replace(\"\\t\",\" \")\n",
    "\n",
    "#     print(index, comentario.author, date.strftime('%d/%m/%Y'), date.strftime('%H:%M:%S'),comentario.body, \"postion\", \"''\")\n",
    "    dataframe.loc[index] = [index, str(comentario.author),date.strftime('%d/%m/%Y'), date.strftime('%H:%M:%S'), body, submission.title, 'neutral', '']\n",
    "    \n",
    "\n",
    "def print_node_info(resposta, index, in_reply_to_id, dataframe):\n",
    "    date = datetime.fromtimestamp(resposta.created_utc)\n",
    "    body = str(resposta.body).replace(\"\\n\", \"\")\n",
    "    body = body.replace(\"\\t\",\" \")\n",
    "\n",
    "#     print(f\"{index} {resposta.author} {date.strftime('%d/%m/%Y')} {date.strftime('%H:%M:%S')} {resposta.body} {'position'} {in_reply_to_id}\")\n",
    "    dataframe.loc[index] = [index, str(resposta.author),date.strftime('%d/%m/%Y'), date.strftime('%H:%M:%S'), body, submission.title, 'neutral', in_reply_to_id]"
   ]
  },
  {
   "cell_type": "code",
   "execution_count": 4,
   "metadata": {},
   "outputs": [],
   "source": [
    "df = pd.DataFrame(columns=['id', 'sender', 'date', 'time', 'content', 'topic', 'position', 'addressee'])\n",
    "\n",
    "get_first_level_comments(submission.comments,1, df)\n",
    "\n",
    "df.to_csv(\"reddit_post_extraction.csv\", index_label=False)\n",
    "\n"
   ]
  },
  {
   "cell_type": "markdown",
   "metadata": {},
   "source": [
    "# Twitter\n",
    "\n",
    "Teste de outro método de extração, utilizando o Twitter como rede social"
   ]
  },
  {
   "cell_type": "code",
   "execution_count": null,
   "metadata": {},
   "outputs": [],
   "source": [
    "import tweepy\n",
    "\n",
    "ACCESS_TOKEN = ''\n",
    "ACCESS_SECRET = ''\n",
    "CONSUMER_KEY = ''\n",
    "CONSUMER_SECRET = ''\n",
    "\n",
    "\n",
    "# Setup access to API\n",
    "def connect_to_twitter_OAuth():\n",
    "    auth = tweepy.OAuthHandler(CONSUMER_KEY, CONSUMER_SECRET)\n",
    "    auth.set_access_token(ACCESS_TOKEN, ACCESS_SECRET)\n",
    "\n",
    "    api = tweepy.API(auth)\n",
    "    return api\n",
    "\n",
    "api = connect_to_twitter_OAuth()\n",
    "\n",
    "trump_tweets = api.user_timeline('rakin')\n",
    "for tweet in trump_tweets:\n",
    "    print(tweet.text, tweet.id)\n",
    "\n",
    "api.me()\n",
    "\n",
    "#tweets = api.search()"
   ]
  },
  {
   "cell_type": "markdown",
   "metadata": {},
   "source": [
    "### O código funciona para pegar as replies, porém se o tweet for relativamente antigo, ou a pessoa tem muita atividade na plataforma, há uma demora excessiva para retornar as respostas\n",
    "\n",
    "### Isso acontece por conta da maneira que o método da api está implementado\n"
   ]
  },
  {
   "cell_type": "code",
   "execution_count": null,
   "metadata": {},
   "outputs": [],
   "source": [
    "def get_replies(user, status_id):\n",
    "    replies = tweepy.Cursor(api.search, q='to:{}'.format(user),\n",
    "                                since_id=status_id, tweet_mode='extended').items()\n",
    "    resp = []\n",
    "    while True:\n",
    "        try:\n",
    "            reply = replies.next()\n",
    "            if not hasattr(reply, 'in_reply_to_status_id_str'):\n",
    "                continue\n",
    "            if reply.in_reply_to_status_id == status_id:\n",
    "               # logging.info(\"reply of tweet:{}\".format(reply.full_text))\n",
    "                aux = \"@\" + str(reply.user.screen_name)\n",
    "                aux_id = reply.id\n",
    "                print(reply.full_text)\n",
    "                get_replies(aux, aux_id)\n",
    "                resp.append({\"user\": \"@\" + str(reply.user.screen_name), \"id\": reply.id, \"text\": reply.full_text, \"tweet_replies\": []})\n",
    "                \n",
    "        except tweepy.RateLimitError as e:\n",
    "            print(\"Twitter api rate limit reached\".format(e))\n",
    "            # time.sleep(60)\n",
    "            continue\n",
    "\n",
    "        except tweepy.TweepError as e:\n",
    "            print(\"Tweepy error occured:{}\".format(e))\n",
    "            break\n",
    "\n",
    "        except StopIteration:\n",
    "            break\n",
    "\n",
    "        except Exception as e:\n",
    "            print(\"Failed while fetching replies {}\".format(e))\n",
    "            break\n",
    "    \n",
    "    return resp"
   ]
  },
  {
   "cell_type": "code",
   "execution_count": null,
   "metadata": {},
   "outputs": [],
   "source": [
    "user_name=\"@HaruJiggly\"\n",
    "tweet_id = 1282782489719779337\n",
    "\n",
    "get_replies(user_name, tweet_id)\n",
    "retorno = get_replies(user_name, tweet_id)\n",
    "for i in retorno:\n",
    "    print(i)\n",
    "    \n",
    "\n",
    "# def get_sub_replies(reply_list_of_dicts):\n",
    "#     for item in reply_list_of_dicts:\n",
    "#         print(item[\"user\"], item[\"id\"], get_replies(item[\"user\"], item[\"id\"]))\n",
    "\n",
    "# get_sub_replies(retorno)\n",
    "    "
   ]
  }
 ],
 "metadata": {
  "kernelspec": {
   "display_name": "Python 3",
   "language": "python",
   "name": "python3"
  },
  "language_info": {
   "codemirror_mode": {
    "name": "ipython",
    "version": 3
   },
   "file_extension": ".py",
   "mimetype": "text/x-python",
   "name": "python",
   "nbconvert_exporter": "python",
   "pygments_lexer": "ipython3",
   "version": "3.8.3"
  }
 },
 "nbformat": 4,
 "nbformat_minor": 4
}
